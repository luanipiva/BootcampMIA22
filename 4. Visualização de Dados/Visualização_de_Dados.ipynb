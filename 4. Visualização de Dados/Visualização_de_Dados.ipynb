{
  "cells": [
    {
      "cell_type": "markdown",
      "metadata": {
        "id": "gXH7bxwkSph3"
      },
      "source": [
        "# Visualização de dados\n",
        "\n",
        "Vamos aprender alguns gráficos básicos em python fazendo algumas visualizações sobre mulheres na Ciência de Dados no Brasil\n"
      ]
    },
    {
      "cell_type": "markdown",
      "metadata": {
        "id": "ozovkofaSph5"
      },
      "source": [
        "![](https://media.giphy.com/media/zw69pUViBZCZW/giphy.gif)"
      ]
    },
    {
      "cell_type": "code",
      "execution_count": 1,
      "metadata": {
        "collapsed": true,
        "id": "PtEKbYhDSph6"
      },
      "outputs": [],
      "source": [
        "import seaborn as sns\n",
        "import matplotlib.pyplot as plt\n",
        "import pandas as pd\n",
        "import re\n",
        "%matplotlib inline"
      ]
    },
    {
      "cell_type": "code",
      "execution_count": 2,
      "metadata": {
        "id": "1jPDPsE5Sph7"
      },
      "outputs": [],
      "source": [
        "#importando o dataset\n",
        "df = pd.read_csv('state_data_2021_data_viz.csv')"
      ]
    },
    {
      "cell_type": "code",
      "execution_count": 3,
      "metadata": {
        "id": "acunDqYqepLw"
      },
      "outputs": [
        {
          "data": {
            "text/html": [
              "<div>\n",
              "<style scoped>\n",
              "    .dataframe tbody tr th:only-of-type {\n",
              "        vertical-align: middle;\n",
              "    }\n",
              "\n",
              "    .dataframe tbody tr th {\n",
              "        vertical-align: top;\n",
              "    }\n",
              "\n",
              "    .dataframe thead th {\n",
              "        text-align: right;\n",
              "    }\n",
              "</style>\n",
              "<table border=\"1\" class=\"dataframe\">\n",
              "  <thead>\n",
              "    <tr style=\"text-align: right;\">\n",
              "      <th></th>\n",
              "      <th>Unnamed: 0</th>\n",
              "      <th>Idade</th>\n",
              "      <th>Genero</th>\n",
              "      <th>UF</th>\n",
              "      <th>Regiao_origem</th>\n",
              "      <th>Nivel Ensino</th>\n",
              "      <th>Area Formacao</th>\n",
              "      <th>Situacao Trabalho</th>\n",
              "      <th>Setor</th>\n",
              "      <th>Trabalha como Gestao</th>\n",
              "      <th>...</th>\n",
              "      <th>Cargo Atual</th>\n",
              "      <th>Nivel</th>\n",
              "      <th>Faixa Salarial</th>\n",
              "      <th>Insatisfacao com a Empresa</th>\n",
              "      <th>Tempo XP em Dados</th>\n",
              "      <th>Tempo XP em Software</th>\n",
              "      <th>Criterios de escolha trabalho</th>\n",
              "      <th>Forma de trabalho atual</th>\n",
              "      <th>Forma de trabalho desejada</th>\n",
              "      <th>Faixa Salarial_number</th>\n",
              "    </tr>\n",
              "  </thead>\n",
              "  <tbody>\n",
              "    <tr>\n",
              "      <th>0</th>\n",
              "      <td>0</td>\n",
              "      <td>38.0</td>\n",
              "      <td>Masculino</td>\n",
              "      <td>CE</td>\n",
              "      <td>NaN</td>\n",
              "      <td>Pós-graduação</td>\n",
              "      <td>Química / Física</td>\n",
              "      <td>Empregado (CLT)</td>\n",
              "      <td>Marketing</td>\n",
              "      <td>1.0</td>\n",
              "      <td>...</td>\n",
              "      <td>NaN</td>\n",
              "      <td>Gestor</td>\n",
              "      <td>de R$ 4.001/mês a R$ 6.000/mês</td>\n",
              "      <td>NaN</td>\n",
              "      <td>Mais de 10 anos</td>\n",
              "      <td>Não tive experiência na área de TI/Engenharia ...</td>\n",
              "      <td>Benefícios</td>\n",
              "      <td>Modelo 100% presencial</td>\n",
              "      <td>Modelo híbrido com dias fixos de trabalho pres...</td>\n",
              "      <td>6000.0</td>\n",
              "    </tr>\n",
              "    <tr>\n",
              "      <th>1</th>\n",
              "      <td>1</td>\n",
              "      <td>39.0</td>\n",
              "      <td>Masculino</td>\n",
              "      <td>BA</td>\n",
              "      <td>Sudeste</td>\n",
              "      <td>Pós-graduação</td>\n",
              "      <td>Economia/ Administração / Contabilidade / Fina...</td>\n",
              "      <td>Empreendedor ou Empregado (CNPJ)</td>\n",
              "      <td>Consultoria</td>\n",
              "      <td>1.0</td>\n",
              "      <td>...</td>\n",
              "      <td>NaN</td>\n",
              "      <td>Gestor</td>\n",
              "      <td>de R$ 6.001/mês a R$ 8.000/mês</td>\n",
              "      <td>NaN</td>\n",
              "      <td>de 2 a 3 anos</td>\n",
              "      <td>Não tive experiência na área de TI/Engenharia ...</td>\n",
              "      <td>Flexibilidade de trabalho remoto</td>\n",
              "      <td>Modelo híbrido flexível (o funcionário tem lib...</td>\n",
              "      <td>Modelo 100% remoto</td>\n",
              "      <td>8000.0</td>\n",
              "    </tr>\n",
              "    <tr>\n",
              "      <th>2</th>\n",
              "      <td>2</td>\n",
              "      <td>30.0</td>\n",
              "      <td>Masculino</td>\n",
              "      <td>SC</td>\n",
              "      <td>NaN</td>\n",
              "      <td>Pós-graduação</td>\n",
              "      <td>Computação / Engenharia de Software / Sistemas...</td>\n",
              "      <td>Empregado (CLT)</td>\n",
              "      <td>Indústria</td>\n",
              "      <td>1.0</td>\n",
              "      <td>...</td>\n",
              "      <td>NaN</td>\n",
              "      <td>Gestor</td>\n",
              "      <td>de R$ 8.001/mês a R$ 12.000/mês</td>\n",
              "      <td>O clima de trabalho/ambiente não é bom</td>\n",
              "      <td>de 1 a 2 anos</td>\n",
              "      <td>de 2 a 3 anos</td>\n",
              "      <td>Oportunidade de aprendizado e trabalhar com re...</td>\n",
              "      <td>Modelo 100% presencial</td>\n",
              "      <td>Modelo 100% remoto</td>\n",
              "      <td>12000.0</td>\n",
              "    </tr>\n",
              "    <tr>\n",
              "      <th>3</th>\n",
              "      <td>3</td>\n",
              "      <td>38.0</td>\n",
              "      <td>Feminino</td>\n",
              "      <td>SP</td>\n",
              "      <td>NaN</td>\n",
              "      <td>Pós-graduação</td>\n",
              "      <td>Outras</td>\n",
              "      <td>Empreendedor ou Empregado (CNPJ)</td>\n",
              "      <td>Serviços</td>\n",
              "      <td>1.0</td>\n",
              "      <td>...</td>\n",
              "      <td>NaN</td>\n",
              "      <td>Gestor</td>\n",
              "      <td>de R$ 12.001/mês a R$ 16.000/mês</td>\n",
              "      <td>Falta de maturidade analítica na empresa</td>\n",
              "      <td>Mais de 10 anos</td>\n",
              "      <td>Menos de 1 ano</td>\n",
              "      <td>Propósito do trabalho e da empresa, Flexibilid...</td>\n",
              "      <td>Modelo 100% presencial</td>\n",
              "      <td>Modelo híbrido com dias fixos de trabalho pres...</td>\n",
              "      <td>16000.0</td>\n",
              "    </tr>\n",
              "    <tr>\n",
              "      <th>4</th>\n",
              "      <td>4</td>\n",
              "      <td>36.0</td>\n",
              "      <td>Masculino</td>\n",
              "      <td>SC</td>\n",
              "      <td>NaN</td>\n",
              "      <td>Pós-graduação</td>\n",
              "      <td>Outras Engenharias</td>\n",
              "      <td>Empreendedor ou Empregado (CNPJ)</td>\n",
              "      <td>Varejo</td>\n",
              "      <td>1.0</td>\n",
              "      <td>...</td>\n",
              "      <td>NaN</td>\n",
              "      <td>Gestor</td>\n",
              "      <td>de R$ 8.001/mês a R$ 12.000/mês</td>\n",
              "      <td>Gostaria de trabalhar em em outra área de atua...</td>\n",
              "      <td>de 1 a 2 anos</td>\n",
              "      <td>de 4 a 5 anos</td>\n",
              "      <td>Maturidade da empresa em termos de tecnologia ...</td>\n",
              "      <td>Modelo 100% presencial</td>\n",
              "      <td>Modelo 100% remoto</td>\n",
              "      <td>12000.0</td>\n",
              "    </tr>\n",
              "  </tbody>\n",
              "</table>\n",
              "<p>5 rows × 21 columns</p>\n",
              "</div>"
            ],
            "text/plain": [
              "   Unnamed: 0  Idade     Genero  UF Regiao_origem   Nivel Ensino  \\\n",
              "0           0   38.0  Masculino  CE           NaN  Pós-graduação   \n",
              "1           1   39.0  Masculino  BA       Sudeste  Pós-graduação   \n",
              "2           2   30.0  Masculino  SC           NaN  Pós-graduação   \n",
              "3           3   38.0   Feminino  SP           NaN  Pós-graduação   \n",
              "4           4   36.0  Masculino  SC           NaN  Pós-graduação   \n",
              "\n",
              "                                       Area Formacao  \\\n",
              "0                                   Química / Física   \n",
              "1  Economia/ Administração / Contabilidade / Fina...   \n",
              "2  Computação / Engenharia de Software / Sistemas...   \n",
              "3                                             Outras   \n",
              "4                                 Outras Engenharias   \n",
              "\n",
              "                  Situacao Trabalho        Setor  Trabalha como Gestao  ...  \\\n",
              "0                   Empregado (CLT)    Marketing                   1.0  ...   \n",
              "1  Empreendedor ou Empregado (CNPJ)  Consultoria                   1.0  ...   \n",
              "2                   Empregado (CLT)    Indústria                   1.0  ...   \n",
              "3  Empreendedor ou Empregado (CNPJ)     Serviços                   1.0  ...   \n",
              "4  Empreendedor ou Empregado (CNPJ)       Varejo                   1.0  ...   \n",
              "\n",
              "  Cargo Atual   Nivel                    Faixa Salarial  \\\n",
              "0         NaN  Gestor    de R$ 4.001/mês a R$ 6.000/mês   \n",
              "1         NaN  Gestor    de R$ 6.001/mês a R$ 8.000/mês   \n",
              "2         NaN  Gestor   de R$ 8.001/mês a R$ 12.000/mês   \n",
              "3         NaN  Gestor  de R$ 12.001/mês a R$ 16.000/mês   \n",
              "4         NaN  Gestor   de R$ 8.001/mês a R$ 12.000/mês   \n",
              "\n",
              "                          Insatisfacao com a Empresa Tempo XP em Dados  \\\n",
              "0                                                NaN   Mais de 10 anos   \n",
              "1                                                NaN     de 2 a 3 anos   \n",
              "2             O clima de trabalho/ambiente não é bom     de 1 a 2 anos   \n",
              "3           Falta de maturidade analítica na empresa   Mais de 10 anos   \n",
              "4  Gostaria de trabalhar em em outra área de atua...     de 1 a 2 anos   \n",
              "\n",
              "                                Tempo XP em Software  \\\n",
              "0  Não tive experiência na área de TI/Engenharia ...   \n",
              "1  Não tive experiência na área de TI/Engenharia ...   \n",
              "2                                      de 2 a 3 anos   \n",
              "3                                     Menos de 1 ano   \n",
              "4                                      de 4 a 5 anos   \n",
              "\n",
              "                       Criterios de escolha trabalho  \\\n",
              "0                                         Benefícios   \n",
              "1                   Flexibilidade de trabalho remoto   \n",
              "2  Oportunidade de aprendizado e trabalhar com re...   \n",
              "3  Propósito do trabalho e da empresa, Flexibilid...   \n",
              "4  Maturidade da empresa em termos de tecnologia ...   \n",
              "\n",
              "                             Forma de trabalho atual  \\\n",
              "0                             Modelo 100% presencial   \n",
              "1  Modelo híbrido flexível (o funcionário tem lib...   \n",
              "2                             Modelo 100% presencial   \n",
              "3                             Modelo 100% presencial   \n",
              "4                             Modelo 100% presencial   \n",
              "\n",
              "                          Forma de trabalho desejada Faixa Salarial_number  \n",
              "0  Modelo híbrido com dias fixos de trabalho pres...                6000.0  \n",
              "1                                 Modelo 100% remoto                8000.0  \n",
              "2                                 Modelo 100% remoto               12000.0  \n",
              "3  Modelo híbrido com dias fixos de trabalho pres...               16000.0  \n",
              "4                                 Modelo 100% remoto               12000.0  \n",
              "\n",
              "[5 rows x 21 columns]"
            ]
          },
          "execution_count": 3,
          "metadata": {},
          "output_type": "execute_result"
        }
      ],
      "source": [
        "#imprimindo as 5  primeiras linhas\n",
        "df.head()"
      ]
    },
    {
      "cell_type": "markdown",
      "metadata": {
        "id": "-_Y0vCZaWx3x"
      },
      "source": [
        "#### Primeiro vamos ver o que tem nos nossos dados: 2465 linhas e 21 colunas (variáveis)"
      ]
    },
    {
      "cell_type": "markdown",
      "metadata": {
        "id": "fD8rtHKjSph8"
      },
      "source": [
        "## Definição da Visualização"
      ]
    },
    {
      "cell_type": "markdown",
      "metadata": {
        "id": "jow4o6M-Sph8"
      },
      "source": [
        "A Primeira etapa da nossa visualização é definir nossas perguntas: \n",
        "O que queremos responder com esses dados?"
      ]
    },
    {
      "cell_type": "markdown",
      "metadata": {
        "id": "8XCjYK45Sph8"
      },
      "source": [
        "**1. Pergunta: Mulheres ganham menos que homens?**\n",
        "\n"
      ]
    },
    {
      "cell_type": "markdown",
      "metadata": {
        "id": "lUp6rUFDq5J5"
      },
      "source": [
        "## Primeiros Gráficos\n",
        "\n",
        "Vamos analisar algumas coisas antes de responder essa pergunta"
      ]
    },
    {
      "cell_type": "markdown",
      "metadata": {
        "id": "CbJH6VQ6rRHx"
      },
      "source": [
        "### 1. Distribuição de mulheres e homens no dataset"
      ]
    },
    {
      "cell_type": "code",
      "execution_count": 37,
      "metadata": {
        "collapsed": true,
        "id": "PRJSP9xcSph9"
      },
      "outputs": [
        {
          "data": {
            "text/plain": [
              "Masculino    1924\n",
              "Feminino      436\n",
              "Outro           5\n",
              "Name: Genero, dtype: int64"
            ]
          },
          "execution_count": 37,
          "metadata": {},
          "output_type": "execute_result"
        }
      ],
      "source": [
        "#nº de homens e mulheres\n",
        "df['Genero'].value_counts()"
      ]
    },
    {
      "cell_type": "code",
      "execution_count": 9,
      "metadata": {
        "id": "OQwBJJqXh4Gi"
      },
      "outputs": [
        {
          "data": {
            "text/plain": [
              "Text(0, 0.5, 'Total')"
            ]
          },
          "execution_count": 9,
          "metadata": {},
          "output_type": "execute_result"
        },
        {
          "data": {
            "image/png": "[encoded data removed]",
            "text/plain": [
              "<Figure size 432x288 with 1 Axes>"
            ]
          },
          "metadata": {
            "needs_background": "light"
          },
          "output_type": "display_data"
        }
      ],
      "source": [
        "#gráfico da distribuição por gênero\n",
        "plt.bar(df['Genero'].unique(), df['Genero'].value_counts())\n",
        "plt.title('Distribuição de Gênero na Área de Dados')\n",
        "plt.xlabel('Gênero')\n",
        "plt.ylabel('Total')"
      ]
    },
    {
      "cell_type": "markdown",
      "metadata": {
        "id": "uTzH-6EniFZT"
      },
      "source": [
        "Vamos gerar esse gráfico de um jeito mais bonito"
      ]
    },
    {
      "cell_type": "markdown",
      "metadata": {
        "id": "rMyBlTho7Lls"
      },
      "source": [
        "Link de palletes do seaborn: [Palettes](https://seaborn.pydata.org/tutorial/color_palettes.html?highlight=palette)"
      ]
    },
    {
      "cell_type": "code",
      "execution_count": 13,
      "metadata": {
        "id": "UtjSpUxBh80B"
      },
      "outputs": [
        {
          "data": {
            "text/plain": [
              "Text(0.5, 1.0, \"'Distribuição de Gênero na Área de Dados'\")"
            ]
          },
          "execution_count": 13,
          "metadata": {},
          "output_type": "execute_result"
        },
        {
          "data": {
            "image/png": "[encoded data removed]",
            "text/plain": [
              "<Figure size 432x288 with 1 Axes>"
            ]
          },
          "metadata": {
            "needs_background": "light"
          },
          "output_type": "display_data"
        }
      ],
      "source": [
        "sns.countplot(y=\"Genero\", data=df, palette=\"inferno\", order=df['Genero'].value_counts().index) \\\n",
        ".set_title(\"'Distribuição de Gênero na Área de Dados'\")"
      ]
    },
    {
      "cell_type": "markdown",
      "metadata": {
        "id": "HhPBQai2jaBs"
      },
      "source": [
        "Vamos ver em gráfico de pizza"
      ]
    },
    {
      "cell_type": "code",
      "execution_count": 11,
      "metadata": {
        "id": "PY5VhfOwjXyP"
      },
      "outputs": [
        {
          "data": {
            "text/plain": [
              "<AxesSubplot:title={'center':'Porcentagem de Pessoas por Gênero na Área Dados'}, ylabel='Genero'>"
            ]
          },
          "execution_count": 11,
          "metadata": {},
          "output_type": "execute_result"
        },
        {
          "data": {
            "image/png": "[encoded data removed]",
            "text/plain": [
              "<Figure size 720x720 with 1 Axes>"
            ]
          },
          "metadata": {},
          "output_type": "display_data"
        }
      ],
      "source": [
        "tmp = pd.DataFrame(df['Genero'].value_counts())\n",
        "tmp.plot.pie(y='Genero', figsize=(10, 10),autopct='%.2f', title='Porcentagem de Pessoas por Gênero na Área Dados', \n",
        "                 startangle=90,legend=False, ylabel=None, colors=['blue', 'red', 'green'])"
      ]
    },
    {
      "cell_type": "markdown",
      "metadata": {
        "id": "9JXxTx3SSph_"
      },
      "source": [
        "### 2. Distribuição de cargos \n",
        "\n",
        "3 formas de criar gráficos:\n",
        " - pelo matplotlib\n",
        " - pelo seaborn\n",
        " - direto pelo dataframe"
      ]
    },
    {
      "cell_type": "code",
      "execution_count": 38,
      "metadata": {},
      "outputs": [
        {
          "data": {
            "text/plain": [
              "Cientista de Dados/Data Scientist                          357\n",
              "Analista de BI/BI Analyst/Analytics Engineer               338\n",
              "Analista de Dados/Data Analyst                             324\n",
              "Engenheiro de Dados/Data Engineer                          300\n",
              "Outro                                                      113\n",
              "Analista de Negócios/Business Analyst                       96\n",
              "Desenvolvedor ou Engenheiro de Software                     92\n",
              "Engenheiro de Machine Learning/ML Engineer                  48\n",
              "Outras Engenharias (não inclui dev)                         33\n",
              "Estatístico                                                 25\n",
              "Analista Administrativo                                     18\n",
              "Analista de Inteligência de Mercado/Market Intelligence     18\n",
              "Analista de Marketing                                       14\n",
              "DBA/Administrador de Banco de Dados                         14\n",
              "Analista de Sistemas/Analista de TI                         14\n",
              "Técnico                                                     13\n",
              "Suporte Técnico                                             13\n",
              "Professor                                                   12\n",
              "Arquiteto de Dados                                           7\n",
              "Product Manager                                              6\n",
              "Arquiteto de dados                                           2\n",
              "Name: Cargo Atual, dtype: int64"
            ]
          },
          "execution_count": 38,
          "metadata": {},
          "output_type": "execute_result"
        }
      ],
      "source": [
        "#nº por cargo\n",
        "df['Cargo Atual'].value_counts()"
      ]
    },
    {
      "cell_type": "code",
      "execution_count": 63,
      "metadata": {},
      "outputs": [
        {
          "ename": "ValueError",
          "evalue": "shape mismatch: objects cannot be broadcast to a single shape.  Mismatch is between arg 0 with shape (22,) and arg 1 with shape (21,).",
          "output_type": "error",
          "traceback": [
            "\u001b[0;31m---------------------------------------------------------------------------\u001b[0m",
            "\u001b[0;31mValueError\u001b[0m                                Traceback (most recent call last)",
            "\u001b[1;32m/home/luani.piva/bootcamp-mia-22/4. Visualização de Dados/Visualização_de_Dados.ipynb Cell 21\u001b[0m in \u001b[0;36m<cell line: 1>\u001b[0;34m()\u001b[0m\n\u001b[0;32m----> <a href='vscode-notebook-cell:/home/luani.piva/bootcamp-mia-22/4.%20Visualiza%C3%A7%C3%A3o%20de%20Dados/Visualiza%C3%A7%C3%A3o_de_Dados.ipynb#Y101sZmlsZQ%3D%3D?line=0'>1</a>\u001b[0m plt\u001b[39m.\u001b[39;49mbar(df[\u001b[39m'\u001b[39;49m\u001b[39mCargo Atual\u001b[39;49m\u001b[39m'\u001b[39;49m]\u001b[39m.\u001b[39;49munique(), df[\u001b[39m'\u001b[39;49m\u001b[39mCargo Atual\u001b[39;49m\u001b[39m'\u001b[39;49m]\u001b[39m.\u001b[39;49mvalue_counts())\n\u001b[1;32m      <a href='vscode-notebook-cell:/home/luani.piva/bootcamp-mia-22/4.%20Visualiza%C3%A7%C3%A3o%20de%20Dados/Visualiza%C3%A7%C3%A3o_de_Dados.ipynb#Y101sZmlsZQ%3D%3D?line=1'>2</a>\u001b[0m plt\u001b[39m.\u001b[39mtitle(\u001b[39m'\u001b[39m\u001b[39mDistribuição de Cargos na Área de Dados\u001b[39m\u001b[39m'\u001b[39m)\n\u001b[1;32m      <a href='vscode-notebook-cell:/home/luani.piva/bootcamp-mia-22/4.%20Visualiza%C3%A7%C3%A3o%20de%20Dados/Visualiza%C3%A7%C3%A3o_de_Dados.ipynb#Y101sZmlsZQ%3D%3D?line=2'>3</a>\u001b[0m plt\u001b[39m.\u001b[39mxlabel(\u001b[39m'\u001b[39m\u001b[39mCargo Atual\u001b[39m\u001b[39m'\u001b[39m)\n",
            "File \u001b[0;32m~/.local/lib/python3.8/site-packages/matplotlib/pyplot.py:2397\u001b[0m, in \u001b[0;36mbar\u001b[0;34m(x, height, width, bottom, align, data, **kwargs)\u001b[0m\n\u001b[1;32m   2393\u001b[0m \u001b[39m@_copy_docstring_and_deprecators\u001b[39m(Axes\u001b[39m.\u001b[39mbar)\n\u001b[1;32m   2394\u001b[0m \u001b[39mdef\u001b[39;00m \u001b[39mbar\u001b[39m(\n\u001b[1;32m   2395\u001b[0m         x, height, width\u001b[39m=\u001b[39m\u001b[39m0.8\u001b[39m, bottom\u001b[39m=\u001b[39m\u001b[39mNone\u001b[39;00m, \u001b[39m*\u001b[39m, align\u001b[39m=\u001b[39m\u001b[39m'\u001b[39m\u001b[39mcenter\u001b[39m\u001b[39m'\u001b[39m,\n\u001b[1;32m   2396\u001b[0m         data\u001b[39m=\u001b[39m\u001b[39mNone\u001b[39;00m, \u001b[39m*\u001b[39m\u001b[39m*\u001b[39mkwargs):\n\u001b[0;32m-> 2397\u001b[0m     \u001b[39mreturn\u001b[39;00m gca()\u001b[39m.\u001b[39;49mbar(\n\u001b[1;32m   2398\u001b[0m         x, height, width\u001b[39m=\u001b[39;49mwidth, bottom\u001b[39m=\u001b[39;49mbottom, align\u001b[39m=\u001b[39;49malign,\n\u001b[1;32m   2399\u001b[0m         \u001b[39m*\u001b[39;49m\u001b[39m*\u001b[39;49m({\u001b[39m\"\u001b[39;49m\u001b[39mdata\u001b[39;49m\u001b[39m\"\u001b[39;49m: data} \u001b[39mif\u001b[39;49;00m data \u001b[39mis\u001b[39;49;00m \u001b[39mnot\u001b[39;49;00m \u001b[39mNone\u001b[39;49;00m \u001b[39melse\u001b[39;49;00m {}), \u001b[39m*\u001b[39;49m\u001b[39m*\u001b[39;49mkwargs)\n",
            "File \u001b[0;32m~/.local/lib/python3.8/site-packages/matplotlib/__init__.py:1414\u001b[0m, in \u001b[0;36m_preprocess_data.<locals>.inner\u001b[0;34m(ax, data, *args, **kwargs)\u001b[0m\n\u001b[1;32m   1411\u001b[0m \u001b[39m@functools\u001b[39m\u001b[39m.\u001b[39mwraps(func)\n\u001b[1;32m   1412\u001b[0m \u001b[39mdef\u001b[39;00m \u001b[39minner\u001b[39m(ax, \u001b[39m*\u001b[39margs, data\u001b[39m=\u001b[39m\u001b[39mNone\u001b[39;00m, \u001b[39m*\u001b[39m\u001b[39m*\u001b[39mkwargs):\n\u001b[1;32m   1413\u001b[0m     \u001b[39mif\u001b[39;00m data \u001b[39mis\u001b[39;00m \u001b[39mNone\u001b[39;00m:\n\u001b[0;32m-> 1414\u001b[0m         \u001b[39mreturn\u001b[39;00m func(ax, \u001b[39m*\u001b[39;49m\u001b[39mmap\u001b[39;49m(sanitize_sequence, args), \u001b[39m*\u001b[39;49m\u001b[39m*\u001b[39;49mkwargs)\n\u001b[1;32m   1416\u001b[0m     bound \u001b[39m=\u001b[39m new_sig\u001b[39m.\u001b[39mbind(ax, \u001b[39m*\u001b[39margs, \u001b[39m*\u001b[39m\u001b[39m*\u001b[39mkwargs)\n\u001b[1;32m   1417\u001b[0m     auto_label \u001b[39m=\u001b[39m (bound\u001b[39m.\u001b[39marguments\u001b[39m.\u001b[39mget(label_namer)\n\u001b[1;32m   1418\u001b[0m                   \u001b[39mor\u001b[39;00m bound\u001b[39m.\u001b[39mkwargs\u001b[39m.\u001b[39mget(label_namer))\n",
            "File \u001b[0;32m~/.local/lib/python3.8/site-packages/matplotlib/axes/_axes.py:2345\u001b[0m, in \u001b[0;36mAxes.bar\u001b[0;34m(self, x, height, width, bottom, align, **kwargs)\u001b[0m\n\u001b[1;32m   2342\u001b[0m     \u001b[39mif\u001b[39;00m yerr \u001b[39mis\u001b[39;00m \u001b[39mnot\u001b[39;00m \u001b[39mNone\u001b[39;00m:\n\u001b[1;32m   2343\u001b[0m         yerr \u001b[39m=\u001b[39m \u001b[39mself\u001b[39m\u001b[39m.\u001b[39m_convert_dx(yerr, y0, y, \u001b[39mself\u001b[39m\u001b[39m.\u001b[39mconvert_yunits)\n\u001b[0;32m-> 2345\u001b[0m x, height, width, y, linewidth, hatch \u001b[39m=\u001b[39m np\u001b[39m.\u001b[39;49mbroadcast_arrays(\n\u001b[1;32m   2346\u001b[0m     \u001b[39m# Make args iterable too.\u001b[39;49;00m\n\u001b[1;32m   2347\u001b[0m     np\u001b[39m.\u001b[39;49matleast_1d(x), height, width, y, linewidth, hatch)\n\u001b[1;32m   2349\u001b[0m \u001b[39m# Now that units have been converted, set the tick locations.\u001b[39;00m\n\u001b[1;32m   2350\u001b[0m \u001b[39mif\u001b[39;00m orientation \u001b[39m==\u001b[39m \u001b[39m'\u001b[39m\u001b[39mvertical\u001b[39m\u001b[39m'\u001b[39m:\n",
            "File \u001b[0;32m<__array_function__ internals>:180\u001b[0m, in \u001b[0;36mbroadcast_arrays\u001b[0;34m(*args, **kwargs)\u001b[0m\n",
            "File \u001b[0;32m~/.local/lib/python3.8/site-packages/numpy/lib/stride_tricks.py:540\u001b[0m, in \u001b[0;36mbroadcast_arrays\u001b[0;34m(subok, *args)\u001b[0m\n\u001b[1;32m    533\u001b[0m \u001b[39m# nditer is not used here to avoid the limit of 32 arrays.\u001b[39;00m\n\u001b[1;32m    534\u001b[0m \u001b[39m# Otherwise, something like the following one-liner would suffice:\u001b[39;00m\n\u001b[1;32m    535\u001b[0m \u001b[39m# return np.nditer(args, flags=['multi_index', 'zerosize_ok'],\u001b[39;00m\n\u001b[1;32m    536\u001b[0m \u001b[39m#                  order='C').itviews\u001b[39;00m\n\u001b[1;32m    538\u001b[0m args \u001b[39m=\u001b[39m [np\u001b[39m.\u001b[39marray(_m, copy\u001b[39m=\u001b[39m\u001b[39mFalse\u001b[39;00m, subok\u001b[39m=\u001b[39msubok) \u001b[39mfor\u001b[39;00m _m \u001b[39min\u001b[39;00m args]\n\u001b[0;32m--> 540\u001b[0m shape \u001b[39m=\u001b[39m _broadcast_shape(\u001b[39m*\u001b[39;49margs)\n\u001b[1;32m    542\u001b[0m \u001b[39mif\u001b[39;00m \u001b[39mall\u001b[39m(array\u001b[39m.\u001b[39mshape \u001b[39m==\u001b[39m shape \u001b[39mfor\u001b[39;00m array \u001b[39min\u001b[39;00m args):\n\u001b[1;32m    543\u001b[0m     \u001b[39m# Common case where nothing needs to be broadcasted.\u001b[39;00m\n\u001b[1;32m    544\u001b[0m     \u001b[39mreturn\u001b[39;00m args\n",
            "File \u001b[0;32m~/.local/lib/python3.8/site-packages/numpy/lib/stride_tricks.py:422\u001b[0m, in \u001b[0;36m_broadcast_shape\u001b[0;34m(*args)\u001b[0m\n\u001b[1;32m    417\u001b[0m \u001b[39m\"\"\"Returns the shape of the arrays that would result from broadcasting the\u001b[39;00m\n\u001b[1;32m    418\u001b[0m \u001b[39msupplied arrays against each other.\u001b[39;00m\n\u001b[1;32m    419\u001b[0m \u001b[39m\"\"\"\u001b[39;00m\n\u001b[1;32m    420\u001b[0m \u001b[39m# use the old-iterator because np.nditer does not handle size 0 arrays\u001b[39;00m\n\u001b[1;32m    421\u001b[0m \u001b[39m# consistently\u001b[39;00m\n\u001b[0;32m--> 422\u001b[0m b \u001b[39m=\u001b[39m np\u001b[39m.\u001b[39;49mbroadcast(\u001b[39m*\u001b[39;49margs[:\u001b[39m32\u001b[39;49m])\n\u001b[1;32m    423\u001b[0m \u001b[39m# unfortunately, it cannot handle 32 or more arguments directly\u001b[39;00m\n\u001b[1;32m    424\u001b[0m \u001b[39mfor\u001b[39;00m pos \u001b[39min\u001b[39;00m \u001b[39mrange\u001b[39m(\u001b[39m32\u001b[39m, \u001b[39mlen\u001b[39m(args), \u001b[39m31\u001b[39m):\n\u001b[1;32m    425\u001b[0m     \u001b[39m# ironically, np.broadcast does not properly handle np.broadcast\u001b[39;00m\n\u001b[1;32m    426\u001b[0m     \u001b[39m# objects (it treats them as scalars)\u001b[39;00m\n\u001b[1;32m    427\u001b[0m     \u001b[39m# use broadcasting to avoid allocating the full array\u001b[39;00m\n",
            "\u001b[0;31mValueError\u001b[0m: shape mismatch: objects cannot be broadcast to a single shape.  Mismatch is between arg 0 with shape (22,) and arg 1 with shape (21,)."
          ]
        },
        {
          "data": {
            "image/png": "[encoded data removed]",
            "text/plain": [
              "<Figure size 432x288 with 1 Axes>"
            ]
          },
          "metadata": {
            "needs_background": "light"
          },
          "output_type": "display_data"
        }
      ],
      "source": [
        "plt.bar(df['Cargo Atual'].unique(), df['Cargo Atual'].value_counts())\n",
        "plt.title('Distribuição de Cargos na Área de Dados')\n",
        "plt.xlabel('Cargo Atual')\n",
        "plt.ylabel('Total')"
      ]
    },
    {
      "cell_type": "code",
      "execution_count": 43,
      "metadata": {
        "collapsed": true,
        "id": "R9e4zLYJSph_"
      },
      "outputs": [
        {
          "data": {
            "text/plain": [
              "Text(0.5, 1.0, \"'Distribuição de Cargos Área de Dados'\")"
            ]
          },
          "execution_count": 43,
          "metadata": {},
          "output_type": "execute_result"
        },
        {
          "data": {
            "image/png": "[encoded data removed]",
            "text/plain": [
              "<Figure size 432x288 with 1 Axes>"
            ]
          },
          "metadata": {
            "needs_background": "light"
          },
          "output_type": "display_data"
        }
      ],
      "source": [
        "#seaborn\n",
        "sns.countplot(y=\"Cargo Atual\", data=df, palette=\"inferno\", order=df['Cargo Atual'].value_counts().index) \\\n",
        ".set_title(\"'Distribuição de Cargos Área de Dados'\")"
      ]
    },
    {
      "cell_type": "markdown",
      "metadata": {
        "id": "qAaAdFBywJch"
      },
      "source": [
        "### 3. Distribuição de nível por gênero:"
      ]
    },
    {
      "cell_type": "code",
      "execution_count": 44,
      "metadata": {
        "id": "eUkepw2QwHrw"
      },
      "outputs": [
        {
          "data": {
            "text/plain": [
              "Genero     Nivel \n",
              "Feminino   Júnior    144\n",
              "           Pleno     131\n",
              "           Sênior     94\n",
              "           Gestor     67\n",
              "Masculino  Pleno     525\n",
              "Name: Nivel, dtype: int64"
            ]
          },
          "execution_count": 44,
          "metadata": {},
          "output_type": "execute_result"
        }
      ],
      "source": [
        "tmp = df.groupby('Genero')['Nivel'].value_counts()\n",
        "tmp.head()"
      ]
    },
    {
      "cell_type": "code",
      "execution_count": 45,
      "metadata": {
        "id": "OMlKBC76x5s9"
      },
      "outputs": [
        {
          "data": {
            "text/html": [
              "<div>\n",
              "<style scoped>\n",
              "    .dataframe tbody tr th:only-of-type {\n",
              "        vertical-align: middle;\n",
              "    }\n",
              "\n",
              "    .dataframe tbody tr th {\n",
              "        vertical-align: top;\n",
              "    }\n",
              "\n",
              "    .dataframe thead th {\n",
              "        text-align: right;\n",
              "    }\n",
              "</style>\n",
              "<table border=\"1\" class=\"dataframe\">\n",
              "  <thead>\n",
              "    <tr style=\"text-align: right;\">\n",
              "      <th></th>\n",
              "      <th>Genero</th>\n",
              "      <th>Nivel</th>\n",
              "      <th>total</th>\n",
              "    </tr>\n",
              "  </thead>\n",
              "  <tbody>\n",
              "    <tr>\n",
              "      <th>0</th>\n",
              "      <td>Feminino</td>\n",
              "      <td>Júnior</td>\n",
              "      <td>144</td>\n",
              "    </tr>\n",
              "    <tr>\n",
              "      <th>1</th>\n",
              "      <td>Feminino</td>\n",
              "      <td>Pleno</td>\n",
              "      <td>131</td>\n",
              "    </tr>\n",
              "    <tr>\n",
              "      <th>2</th>\n",
              "      <td>Feminino</td>\n",
              "      <td>Sênior</td>\n",
              "      <td>94</td>\n",
              "    </tr>\n",
              "    <tr>\n",
              "      <th>3</th>\n",
              "      <td>Feminino</td>\n",
              "      <td>Gestor</td>\n",
              "      <td>67</td>\n",
              "    </tr>\n",
              "    <tr>\n",
              "      <th>4</th>\n",
              "      <td>Masculino</td>\n",
              "      <td>Pleno</td>\n",
              "      <td>525</td>\n",
              "    </tr>\n",
              "  </tbody>\n",
              "</table>\n",
              "</div>"
            ],
            "text/plain": [
              "      Genero   Nivel  total\n",
              "0   Feminino  Júnior    144\n",
              "1   Feminino   Pleno    131\n",
              "2   Feminino  Sênior     94\n",
              "3   Feminino  Gestor     67\n",
              "4  Masculino   Pleno    525"
            ]
          },
          "execution_count": 45,
          "metadata": {},
          "output_type": "execute_result"
        }
      ],
      "source": [
        "tmp = tmp.reset_index(name='total')\n",
        "tmp.head()"
      ]
    },
    {
      "cell_type": "code",
      "execution_count": 46,
      "metadata": {
        "id": "ZBqxcd0OyU4B"
      },
      "outputs": [
        {
          "data": {
            "text/plain": [
              "<AxesSubplot:xlabel='Nivel', ylabel='total'>"
            ]
          },
          "execution_count": 46,
          "metadata": {},
          "output_type": "execute_result"
        },
        {
          "data": {
            "image/png": "[encoded data removed]",
            "text/plain": [
              "<Figure size 1440x720 with 1 Axes>"
            ]
          },
          "metadata": {
            "needs_background": "light"
          },
          "output_type": "display_data"
        }
      ],
      "source": [
        "plt.figure(figsize=(20,10))\n",
        "sns.barplot(x='Nivel', y='total', hue='Genero', data=tmp, hue_order=['Masculino', 'Feminino', 'Outro'], palette='inferno')"
      ]
    },
    {
      "cell_type": "markdown",
      "metadata": {
        "id": "yZd_OgQJzopz"
      },
      "source": [
        "Essa visualização está boa? \n",
        "\n",
        "Conseguimos ver a diferença de nível caindo?\n",
        "\n",
        "O que poderíamos mudar para melhorar?"
      ]
    },
    {
      "cell_type": "markdown",
      "metadata": {
        "id": "RchCPBck4PTl"
      },
      "source": [
        "### Vamos analisar os salários\n",
        "\n",
        "Primeiro vamos fazer um histograma para analisar a distribuição geral dos salários"
      ]
    },
    {
      "cell_type": "code",
      "execution_count": 47,
      "metadata": {
        "id": "hA6LYRLA3EOR"
      },
      "outputs": [
        {
          "data": {
            "text/plain": [
              "<AxesSubplot:>"
            ]
          },
          "execution_count": 47,
          "metadata": {},
          "output_type": "execute_result"
        },
        {
          "data": {
            "image/png": "[encoded data removed]",
            "text/plain": [
              "<Figure size 432x288 with 1 Axes>"
            ]
          },
          "metadata": {
            "needs_background": "light"
          },
          "output_type": "display_data"
        }
      ],
      "source": [
        "df['Faixa Salarial_number'].hist()"
      ]
    },
    {
      "cell_type": "markdown",
      "metadata": {
        "id": "DMn3U2JF4lOt"
      },
      "source": [
        "## Gráfico de Gênero vs Salário\n",
        "\n",
        "Agora sim! Vamos ver a diferença de salários entre gêneros. \n",
        "\n",
        "Porém, não podemos comparar bananas com laranjas, vamos olhar primeiro somente para ciência de dados separando por nível."
      ]
    },
    {
      "cell_type": "code",
      "execution_count": 57,
      "metadata": {
        "id": "g6BCq2CY1-cT"
      },
      "outputs": [],
      "source": [
        "df2 = df[df['Cargo Atual'].str.contains('Cientista de Dados', na=False)]"
      ]
    },
    {
      "cell_type": "code",
      "execution_count": 58,
      "metadata": {
        "id": "ftx46R0R2krb"
      },
      "outputs": [],
      "source": [
        "tmp = df2.groupby(['Genero', 'Nivel'])['Faixa Salarial_number'].mean()"
      ]
    },
    {
      "cell_type": "code",
      "execution_count": 59,
      "metadata": {
        "id": "jz9ke1Te2x5Q"
      },
      "outputs": [
        {
          "data": {
            "text/plain": [
              "Genero     Nivel \n",
              "Feminino   Júnior     5615.384615\n",
              "           Pleno      9600.000000\n",
              "           Sênior    13882.352941\n",
              "Masculino  Júnior     5247.191011\n",
              "           Pleno     10896.825397\n",
              "Name: Faixa Salarial_number, dtype: float64"
            ]
          },
          "execution_count": 59,
          "metadata": {},
          "output_type": "execute_result"
        }
      ],
      "source": [
        "tmp.head()"
      ]
    },
    {
      "cell_type": "code",
      "execution_count": 60,
      "metadata": {
        "id": "oDWb3D4G2z3c"
      },
      "outputs": [
        {
          "data": {
            "text/html": [
              "<div>\n",
              "<style scoped>\n",
              "    .dataframe tbody tr th:only-of-type {\n",
              "        vertical-align: middle;\n",
              "    }\n",
              "\n",
              "    .dataframe tbody tr th {\n",
              "        vertical-align: top;\n",
              "    }\n",
              "\n",
              "    .dataframe thead th {\n",
              "        text-align: right;\n",
              "    }\n",
              "</style>\n",
              "<table border=\"1\" class=\"dataframe\">\n",
              "  <thead>\n",
              "    <tr style=\"text-align: right;\">\n",
              "      <th></th>\n",
              "      <th>Genero</th>\n",
              "      <th>Nivel</th>\n",
              "      <th>Salario Medio</th>\n",
              "    </tr>\n",
              "  </thead>\n",
              "  <tbody>\n",
              "    <tr>\n",
              "      <th>0</th>\n",
              "      <td>Feminino</td>\n",
              "      <td>Júnior</td>\n",
              "      <td>5615.384615</td>\n",
              "    </tr>\n",
              "    <tr>\n",
              "      <th>1</th>\n",
              "      <td>Feminino</td>\n",
              "      <td>Pleno</td>\n",
              "      <td>9600.000000</td>\n",
              "    </tr>\n",
              "    <tr>\n",
              "      <th>2</th>\n",
              "      <td>Feminino</td>\n",
              "      <td>Sênior</td>\n",
              "      <td>13882.352941</td>\n",
              "    </tr>\n",
              "    <tr>\n",
              "      <th>3</th>\n",
              "      <td>Masculino</td>\n",
              "      <td>Júnior</td>\n",
              "      <td>5247.191011</td>\n",
              "    </tr>\n",
              "    <tr>\n",
              "      <th>4</th>\n",
              "      <td>Masculino</td>\n",
              "      <td>Pleno</td>\n",
              "      <td>10896.825397</td>\n",
              "    </tr>\n",
              "  </tbody>\n",
              "</table>\n",
              "</div>"
            ],
            "text/plain": [
              "      Genero   Nivel  Salario Medio\n",
              "0   Feminino  Júnior    5615.384615\n",
              "1   Feminino   Pleno    9600.000000\n",
              "2   Feminino  Sênior   13882.352941\n",
              "3  Masculino  Júnior    5247.191011\n",
              "4  Masculino   Pleno   10896.825397"
            ]
          },
          "execution_count": 60,
          "metadata": {},
          "output_type": "execute_result"
        }
      ],
      "source": [
        "tmp = tmp.reset_index(name='Salario Medio')\n",
        "tmp.head()"
      ]
    },
    {
      "cell_type": "code",
      "execution_count": 61,
      "metadata": {
        "id": "oHjs3odv25uA"
      },
      "outputs": [
        {
          "data": {
            "text/plain": [
              "<AxesSubplot:xlabel='Nivel', ylabel='Salario Medio'>"
            ]
          },
          "execution_count": 61,
          "metadata": {},
          "output_type": "execute_result"
        },
        {
          "data": {
            "image/png": "[encoded data removed]",
            "text/plain": [
              "<Figure size 1440x720 with 1 Axes>"
            ]
          },
          "metadata": {
            "needs_background": "light"
          },
          "output_type": "display_data"
        }
      ],
      "source": [
        "plt.figure(figsize=(20,10))\n",
        "sns.barplot(x='Nivel', y='Salario Medio', hue='Genero', data=tmp, order=['Júnior', 'Pleno', 'Sênior', 'Gestor'], palette='inferno', hue_order=['Masculino', 'Feminino', 'Outro'])"
      ]
    },
    {
      "cell_type": "code",
      "execution_count": 62,
      "metadata": {
        "id": "KrNz9Jy851XY"
      },
      "outputs": [
        {
          "data": {
            "text/plain": [
              "<AxesSubplot:xlabel='Tempo XP em Dados', ylabel='Salario Medio'>"
            ]
          },
          "execution_count": 62,
          "metadata": {},
          "output_type": "execute_result"
        },
        {
          "data": {
            "image/png": "[encoded data removed]",
            "text/plain": [
              "<Figure size 1440x720 with 1 Axes>"
            ]
          },
          "metadata": {
            "needs_background": "light"
          },
          "output_type": "display_data"
        }
      ],
      "source": [
        "#Vamos ver isso de outra forma, por tempo de experiência\n",
        "tmp = df2.groupby(['Genero', 'Tempo XP em Dados'])['Faixa Salarial_number'].mean()\n",
        "tmp = tmp.reset_index(name='Salario Medio')\n",
        "plt.figure(figsize=(20,10))\n",
        "sns.barplot(x='Tempo XP em Dados', y='Salario Medio', hue='Genero', data=tmp, order=['Não tenho experiência na área de dados','Menos de 1 ano', 'de 1 a 2 anos',\n",
        "       'de 2 a 3 anos', 'de 4 a 5 anos', 'de 6 a 10 anos', 'Mais de 10 anos'],\n",
        "            hue_order=['Masculino', 'Feminino', 'Outro'], palette='inferno')"
      ]
    },
    {
      "cell_type": "markdown",
      "metadata": {},
      "source": [
        "---"
      ]
    },
    {
      "cell_type": "markdown",
      "metadata": {
        "id": "i_txvHMe3R6z"
      },
      "source": [
        "\n",
        "\n",
        "1. Analise a diferença de salario para gestão, olhar a coluna: \"Cargo como Gestor(a)\"\n",
        "2. Analise a diferença por formação, olhar as colunas \"Nivel Ensino\" e \"Area Formacao\"\n",
        "\n"
      ]
    },
    {
      "cell_type": "markdown",
      "metadata": {},
      "source": [
        "### Análise a diferença de salario para gestão"
      ]
    },
    {
      "cell_type": "code",
      "execution_count": 76,
      "metadata": {},
      "outputs": [],
      "source": [
        "# Separando os dados apenas para cargos de nível gestão\n",
        "df3 = df[df['Nivel'].str.contains('Gestor', na=False)]"
      ]
    },
    {
      "cell_type": "code",
      "execution_count": 78,
      "metadata": {},
      "outputs": [],
      "source": [
        "tmp = df3.groupby(['Genero', 'Nivel'])['Faixa Salarial_number'].mean()"
      ]
    },
    {
      "cell_type": "code",
      "execution_count": 79,
      "metadata": {},
      "outputs": [
        {
          "data": {
            "text/plain": [
              "Genero     Nivel \n",
              "Feminino   Gestor    15731.343284\n",
              "Masculino  Gestor    17072.562358\n",
              "Name: Faixa Salarial_number, dtype: float64"
            ]
          },
          "execution_count": 79,
          "metadata": {},
          "output_type": "execute_result"
        }
      ],
      "source": [
        "tmp.head()"
      ]
    },
    {
      "cell_type": "code",
      "execution_count": 80,
      "metadata": {},
      "outputs": [
        {
          "data": {
            "text/html": [
              "<div>\n",
              "<style scoped>\n",
              "    .dataframe tbody tr th:only-of-type {\n",
              "        vertical-align: middle;\n",
              "    }\n",
              "\n",
              "    .dataframe tbody tr th {\n",
              "        vertical-align: top;\n",
              "    }\n",
              "\n",
              "    .dataframe thead th {\n",
              "        text-align: right;\n",
              "    }\n",
              "</style>\n",
              "<table border=\"1\" class=\"dataframe\">\n",
              "  <thead>\n",
              "    <tr style=\"text-align: right;\">\n",
              "      <th></th>\n",
              "      <th>Genero</th>\n",
              "      <th>Nivel</th>\n",
              "      <th>Salario Medio</th>\n",
              "    </tr>\n",
              "  </thead>\n",
              "  <tbody>\n",
              "    <tr>\n",
              "      <th>0</th>\n",
              "      <td>Feminino</td>\n",
              "      <td>Gestor</td>\n",
              "      <td>15731.343284</td>\n",
              "    </tr>\n",
              "    <tr>\n",
              "      <th>1</th>\n",
              "      <td>Masculino</td>\n",
              "      <td>Gestor</td>\n",
              "      <td>17072.562358</td>\n",
              "    </tr>\n",
              "  </tbody>\n",
              "</table>\n",
              "</div>"
            ],
            "text/plain": [
              "      Genero   Nivel  Salario Medio\n",
              "0   Feminino  Gestor   15731.343284\n",
              "1  Masculino  Gestor   17072.562358"
            ]
          },
          "execution_count": 80,
          "metadata": {},
          "output_type": "execute_result"
        }
      ],
      "source": [
        "tmp = tmp.reset_index(name='Salario Medio')\n",
        "tmp.head()"
      ]
    },
    {
      "cell_type": "code",
      "execution_count": 81,
      "metadata": {},
      "outputs": [
        {
          "data": {
            "text/plain": [
              "<AxesSubplot:xlabel='Nivel', ylabel='Salario Medio'>"
            ]
          },
          "execution_count": 81,
          "metadata": {},
          "output_type": "execute_result"
        },
        {
          "data": {
            "image/png": "[encoded data removed]",
            "text/plain": [
              "<Figure size 1440x720 with 1 Axes>"
            ]
          },
          "metadata": {
            "needs_background": "light"
          },
          "output_type": "display_data"
        }
      ],
      "source": [
        "plt.figure(figsize=(20,10))\n",
        "sns.barplot(x='Nivel', y='Salario Medio', hue='Genero', data=tmp, palette='inferno', hue_order=['Masculino', 'Feminino', 'Outro'])"
      ]
    },
    {
      "cell_type": "markdown",
      "metadata": {},
      "source": [
        "### Análise a diferença por formação"
      ]
    },
    {
      "cell_type": "code",
      "execution_count": 1,
      "metadata": {
        "id": "eig7ai606hB5"
      },
      "outputs": [],
      "source": [
        "# "
      ]
    }
  ],
  "metadata": {
    "colab": {
      "collapsed_sections": [],
      "name": "Visualização de Dados.ipynb",
      "provenance": [],
      "toc_visible": true
    },
    "kernelspec": {
      "display_name": "Python 3.8.10 64-bit",
      "language": "python",
      "name": "python3"
    },
    "language_info": {
      "codemirror_mode": {
        "name": "ipython",
        "version": 3
      },
      "file_extension": ".py",
      "mimetype": "text/x-python",
      "name": "python",
      "nbconvert_exporter": "python",
      "pygments_lexer": "ipython3",
      "version": "3.8.10"
    },
    "vscode": {
      "interpreter": {
        "hash": "916dbcbb3f70747c44a77c7bcd40155683ae19c65e1c03b4aa3499c5328201f1"
      }
    }
  },
  "nbformat": 4,
  "nbformat_minor": 0
}
